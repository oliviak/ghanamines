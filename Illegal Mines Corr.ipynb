{
 "cells": [
  {
   "cell_type": "markdown",
   "metadata": {},
   "source": [
    "# Illegal Mines Correlation\n",
    "\n",
    "We are using a smaller data set that only contains few relevant features: income, lighting, deforestation, health and distance to the nearest large-scale mine.\n",
    "Also the data in the above features is aggregated by year and latitude/longitude."
   ]
  },
  {
   "cell_type": "code",
   "execution_count": 1,
   "metadata": {
    "collapsed": true
   },
   "outputs": [],
   "source": [
    "import numpy as np \n",
    "import pandas as pd\n",
    "import matplotlib.pyplot as plt \n",
    "import seaborn as sns \n",
    "import sklearn\n",
    "%matplotlib inline"
   ]
  },
  {
   "cell_type": "code",
   "execution_count": 2,
   "metadata": {},
   "outputs": [
    {
     "data": {
      "text/html": [
       "<div>\n",
       "<style>\n",
       "    .dataframe thead tr:only-child th {\n",
       "        text-align: right;\n",
       "    }\n",
       "\n",
       "    .dataframe thead th {\n",
       "        text-align: left;\n",
       "    }\n",
       "\n",
       "    .dataframe tbody tr th {\n",
       "        vertical-align: top;\n",
       "    }\n",
       "</style>\n",
       "<table border=\"1\" class=\"dataframe\">\n",
       "  <thead>\n",
       "    <tr style=\"text-align: right;\">\n",
       "      <th></th>\n",
       "      <th>year</th>\n",
       "      <th>x</th>\n",
       "      <th>y</th>\n",
       "      <th>expenditure</th>\n",
       "      <th>income</th>\n",
       "      <th>ill_or_injured</th>\n",
       "      <th>malaria</th>\n",
       "      <th>forestloss</th>\n",
       "      <th>nightlights</th>\n",
       "      <th>distance_nearestlargemine</th>\n",
       "    </tr>\n",
       "  </thead>\n",
       "  <tbody>\n",
       "    <tr>\n",
       "      <th>0</th>\n",
       "      <td>98.0</td>\n",
       "      <td>-3.05622</td>\n",
       "      <td>6.86144</td>\n",
       "      <td>679.86713</td>\n",
       "      <td>344.251040</td>\n",
       "      <td>0.295238</td>\n",
       "      <td>0.627282</td>\n",
       "      <td>0.0</td>\n",
       "      <td>0.00000</td>\n",
       "      <td>76552.820</td>\n",
       "    </tr>\n",
       "    <tr>\n",
       "      <th>1</th>\n",
       "      <td>98.0</td>\n",
       "      <td>-2.94462</td>\n",
       "      <td>6.35241</td>\n",
       "      <td>545.13544</td>\n",
       "      <td>514.467100</td>\n",
       "      <td>0.297297</td>\n",
       "      <td>0.628550</td>\n",
       "      <td>0.0</td>\n",
       "      <td>0.34153</td>\n",
       "      <td>69400.570</td>\n",
       "    </tr>\n",
       "    <tr>\n",
       "      <th>2</th>\n",
       "      <td>98.0</td>\n",
       "      <td>-2.85447</td>\n",
       "      <td>7.74937</td>\n",
       "      <td>709.71167</td>\n",
       "      <td>511.725740</td>\n",
       "      <td>0.265823</td>\n",
       "      <td>0.603990</td>\n",
       "      <td>0.0</td>\n",
       "      <td>0.00000</td>\n",
       "      <td>47839.813</td>\n",
       "    </tr>\n",
       "    <tr>\n",
       "      <th>3</th>\n",
       "      <td>98.0</td>\n",
       "      <td>-2.81880</td>\n",
       "      <td>10.72420</td>\n",
       "      <td>246.44479</td>\n",
       "      <td>85.705086</td>\n",
       "      <td>0.173913</td>\n",
       "      <td>0.553067</td>\n",
       "      <td>0.0</td>\n",
       "      <td>0.00000</td>\n",
       "      <td>245310.780</td>\n",
       "    </tr>\n",
       "    <tr>\n",
       "      <th>4</th>\n",
       "      <td>98.0</td>\n",
       "      <td>-2.81525</td>\n",
       "      <td>6.88833</td>\n",
       "      <td>1034.02030</td>\n",
       "      <td>826.393370</td>\n",
       "      <td>0.125000</td>\n",
       "      <td>0.620716</td>\n",
       "      <td>0.0</td>\n",
       "      <td>0.00000</td>\n",
       "      <td>49765.992</td>\n",
       "    </tr>\n",
       "  </tbody>\n",
       "</table>\n",
       "</div>"
      ],
      "text/plain": [
       "   year        x         y  expenditure      income  ill_or_injured   malaria  \\\n",
       "0  98.0 -3.05622   6.86144    679.86713  344.251040        0.295238  0.627282   \n",
       "1  98.0 -2.94462   6.35241    545.13544  514.467100        0.297297  0.628550   \n",
       "2  98.0 -2.85447   7.74937    709.71167  511.725740        0.265823  0.603990   \n",
       "3  98.0 -2.81880  10.72420    246.44479   85.705086        0.173913  0.553067   \n",
       "4  98.0 -2.81525   6.88833   1034.02030  826.393370        0.125000  0.620716   \n",
       "\n",
       "   forestloss  nightlights  distance_nearestlargemine  \n",
       "0         0.0      0.00000                  76552.820  \n",
       "1         0.0      0.34153                  69400.570  \n",
       "2         0.0      0.00000                  47839.813  \n",
       "3         0.0      0.00000                 245310.780  \n",
       "4         0.0      0.00000                  49765.992  "
      ]
     },
     "execution_count": 2,
     "metadata": {},
     "output_type": "execute_result"
    }
   ],
   "source": [
    "# Dataset location\n",
    "maindb = \"short.csv\"\n",
    "\n",
    "# Read in a CSV file and store the contents in a dataframe (df)\n",
    "df = pd.read_csv(maindb, low_memory=False, sep=',')\n",
    "df.head()\n"
   ]
  },
  {
   "cell_type": "code",
   "execution_count": 3,
   "metadata": {},
   "outputs": [
    {
     "data": {
      "text/plain": [
       "(1593, 10)"
      ]
     },
     "execution_count": 3,
     "metadata": {},
     "output_type": "execute_result"
    }
   ],
   "source": [
    "df.shape"
   ]
  },
  {
   "cell_type": "code",
   "execution_count": 4,
   "metadata": {},
   "outputs": [
    {
     "data": {
      "text/html": [
       "<div>\n",
       "<style>\n",
       "    .dataframe thead tr:only-child th {\n",
       "        text-align: right;\n",
       "    }\n",
       "\n",
       "    .dataframe thead th {\n",
       "        text-align: left;\n",
       "    }\n",
       "\n",
       "    .dataframe tbody tr th {\n",
       "        vertical-align: top;\n",
       "    }\n",
       "</style>\n",
       "<table border=\"1\" class=\"dataframe\">\n",
       "  <thead>\n",
       "    <tr style=\"text-align: right;\">\n",
       "      <th></th>\n",
       "      <th>year</th>\n",
       "      <th>x</th>\n",
       "      <th>y</th>\n",
       "      <th>expenditure</th>\n",
       "      <th>income</th>\n",
       "      <th>ill_or_injured</th>\n",
       "      <th>malaria</th>\n",
       "      <th>forestloss</th>\n",
       "      <th>nightlights</th>\n",
       "      <th>distance_nearestlargemine</th>\n",
       "    </tr>\n",
       "  </thead>\n",
       "  <tbody>\n",
       "    <tr>\n",
       "      <th>year</th>\n",
       "      <td>1.000000</td>\n",
       "      <td>-0.041613</td>\n",
       "      <td>0.140556</td>\n",
       "      <td>0.282040</td>\n",
       "      <td>0.210935</td>\n",
       "      <td>-0.279912</td>\n",
       "      <td>-0.345842</td>\n",
       "      <td>0.268879</td>\n",
       "      <td>-0.012088</td>\n",
       "      <td>0.122306</td>\n",
       "    </tr>\n",
       "    <tr>\n",
       "      <th>x</th>\n",
       "      <td>-0.041613</td>\n",
       "      <td>1.000000</td>\n",
       "      <td>-0.044612</td>\n",
       "      <td>0.044417</td>\n",
       "      <td>-0.032909</td>\n",
       "      <td>0.028370</td>\n",
       "      <td>-0.405654</td>\n",
       "      <td>-0.140034</td>\n",
       "      <td>0.130309</td>\n",
       "      <td>0.234926</td>\n",
       "    </tr>\n",
       "    <tr>\n",
       "      <th>y</th>\n",
       "      <td>0.140556</td>\n",
       "      <td>-0.044612</td>\n",
       "      <td>1.000000</td>\n",
       "      <td>-0.299556</td>\n",
       "      <td>-0.121485</td>\n",
       "      <td>-0.140273</td>\n",
       "      <td>0.349652</td>\n",
       "      <td>-0.301155</td>\n",
       "      <td>-0.314759</td>\n",
       "      <td>0.877439</td>\n",
       "    </tr>\n",
       "    <tr>\n",
       "      <th>expenditure</th>\n",
       "      <td>0.282040</td>\n",
       "      <td>0.044417</td>\n",
       "      <td>-0.299556</td>\n",
       "      <td>1.000000</td>\n",
       "      <td>0.556490</td>\n",
       "      <td>-0.058995</td>\n",
       "      <td>-0.496576</td>\n",
       "      <td>0.254737</td>\n",
       "      <td>0.526546</td>\n",
       "      <td>-0.238783</td>\n",
       "    </tr>\n",
       "    <tr>\n",
       "      <th>income</th>\n",
       "      <td>0.210935</td>\n",
       "      <td>-0.032909</td>\n",
       "      <td>-0.121485</td>\n",
       "      <td>0.556490</td>\n",
       "      <td>1.000000</td>\n",
       "      <td>-0.102473</td>\n",
       "      <td>-0.273329</td>\n",
       "      <td>0.221765</td>\n",
       "      <td>0.248368</td>\n",
       "      <td>-0.119854</td>\n",
       "    </tr>\n",
       "    <tr>\n",
       "      <th>ill_or_injured</th>\n",
       "      <td>-0.279912</td>\n",
       "      <td>0.028370</td>\n",
       "      <td>-0.140273</td>\n",
       "      <td>-0.058995</td>\n",
       "      <td>-0.102473</td>\n",
       "      <td>1.000000</td>\n",
       "      <td>0.148217</td>\n",
       "      <td>-0.096269</td>\n",
       "      <td>-0.105714</td>\n",
       "      <td>-0.135924</td>\n",
       "    </tr>\n",
       "    <tr>\n",
       "      <th>malaria</th>\n",
       "      <td>-0.345842</td>\n",
       "      <td>-0.405654</td>\n",
       "      <td>0.349652</td>\n",
       "      <td>-0.496576</td>\n",
       "      <td>-0.273329</td>\n",
       "      <td>0.148217</td>\n",
       "      <td>1.000000</td>\n",
       "      <td>-0.130625</td>\n",
       "      <td>-0.583006</td>\n",
       "      <td>0.246476</td>\n",
       "    </tr>\n",
       "    <tr>\n",
       "      <th>forestloss</th>\n",
       "      <td>0.268879</td>\n",
       "      <td>-0.140034</td>\n",
       "      <td>-0.301155</td>\n",
       "      <td>0.254737</td>\n",
       "      <td>0.221765</td>\n",
       "      <td>-0.096269</td>\n",
       "      <td>-0.130625</td>\n",
       "      <td>1.000000</td>\n",
       "      <td>0.039231</td>\n",
       "      <td>-0.311557</td>\n",
       "    </tr>\n",
       "    <tr>\n",
       "      <th>nightlights</th>\n",
       "      <td>-0.012088</td>\n",
       "      <td>0.130309</td>\n",
       "      <td>-0.314759</td>\n",
       "      <td>0.526546</td>\n",
       "      <td>0.248368</td>\n",
       "      <td>-0.105714</td>\n",
       "      <td>-0.583006</td>\n",
       "      <td>0.039231</td>\n",
       "      <td>1.000000</td>\n",
       "      <td>-0.218054</td>\n",
       "    </tr>\n",
       "    <tr>\n",
       "      <th>distance_nearestlargemine</th>\n",
       "      <td>0.122306</td>\n",
       "      <td>0.234926</td>\n",
       "      <td>0.877439</td>\n",
       "      <td>-0.238783</td>\n",
       "      <td>-0.119854</td>\n",
       "      <td>-0.135924</td>\n",
       "      <td>0.246476</td>\n",
       "      <td>-0.311557</td>\n",
       "      <td>-0.218054</td>\n",
       "      <td>1.000000</td>\n",
       "    </tr>\n",
       "  </tbody>\n",
       "</table>\n",
       "</div>"
      ],
      "text/plain": [
       "                               year         x         y  expenditure  \\\n",
       "year                       1.000000 -0.041613  0.140556     0.282040   \n",
       "x                         -0.041613  1.000000 -0.044612     0.044417   \n",
       "y                          0.140556 -0.044612  1.000000    -0.299556   \n",
       "expenditure                0.282040  0.044417 -0.299556     1.000000   \n",
       "income                     0.210935 -0.032909 -0.121485     0.556490   \n",
       "ill_or_injured            -0.279912  0.028370 -0.140273    -0.058995   \n",
       "malaria                   -0.345842 -0.405654  0.349652    -0.496576   \n",
       "forestloss                 0.268879 -0.140034 -0.301155     0.254737   \n",
       "nightlights               -0.012088  0.130309 -0.314759     0.526546   \n",
       "distance_nearestlargemine  0.122306  0.234926  0.877439    -0.238783   \n",
       "\n",
       "                             income  ill_or_injured   malaria  forestloss  \\\n",
       "year                       0.210935       -0.279912 -0.345842    0.268879   \n",
       "x                         -0.032909        0.028370 -0.405654   -0.140034   \n",
       "y                         -0.121485       -0.140273  0.349652   -0.301155   \n",
       "expenditure                0.556490       -0.058995 -0.496576    0.254737   \n",
       "income                     1.000000       -0.102473 -0.273329    0.221765   \n",
       "ill_or_injured            -0.102473        1.000000  0.148217   -0.096269   \n",
       "malaria                   -0.273329        0.148217  1.000000   -0.130625   \n",
       "forestloss                 0.221765       -0.096269 -0.130625    1.000000   \n",
       "nightlights                0.248368       -0.105714 -0.583006    0.039231   \n",
       "distance_nearestlargemine -0.119854       -0.135924  0.246476   -0.311557   \n",
       "\n",
       "                           nightlights  distance_nearestlargemine  \n",
       "year                         -0.012088                   0.122306  \n",
       "x                             0.130309                   0.234926  \n",
       "y                            -0.314759                   0.877439  \n",
       "expenditure                   0.526546                  -0.238783  \n",
       "income                        0.248368                  -0.119854  \n",
       "ill_or_injured               -0.105714                  -0.135924  \n",
       "malaria                      -0.583006                   0.246476  \n",
       "forestloss                    0.039231                  -0.311557  \n",
       "nightlights                   1.000000                  -0.218054  \n",
       "distance_nearestlargemine    -0.218054                   1.000000  "
      ]
     },
     "execution_count": 4,
     "metadata": {},
     "output_type": "execute_result"
    },
    {
     "data": {
      "image/png": "[encoded data removed]",
      "text/plain": [
       "<matplotlib.figure.Figure at 0x218fb24f128>"
      ]
     },
     "metadata": {},
     "output_type": "display_data"
    }
   ],
   "source": [
    "#Correlation Matrix\n",
    "corrdf = df.corr()\n",
    "corr = (corrdf)\n",
    "sns.heatmap(corr, \n",
    "            xticklabels=corr.columns.values,\n",
    "            yticklabels=corr.columns.values)\n",
    "# sns.title('Heatmap of Correlation Matrix')\n",
    "corr"
   ]
  },
  {
   "cell_type": "code",
   "execution_count": 5,
   "metadata": {},
   "outputs": [
    {
     "data": {
      "text/plain": [
       "Index(['year', 'x', 'y', 'expenditure', 'income', 'ill_or_injured', 'malaria',\n",
       "       'forestloss', 'nightlights', 'distance_nearestlargemine'],\n",
       "      dtype='object')"
      ]
     },
     "execution_count": 5,
     "metadata": {},
     "output_type": "execute_result"
    }
   ],
   "source": [
    "df.columns"
   ]
  },
  {
   "cell_type": "code",
   "execution_count": 6,
   "metadata": {},
   "outputs": [
    {
     "data": {
      "text/plain": [
       "year                          True\n",
       "x                            False\n",
       "y                            False\n",
       "expenditure                   True\n",
       "income                        True\n",
       "ill_or_injured                True\n",
       "malaria                       True\n",
       "forestloss                    True\n",
       "nightlights                   True\n",
       "distance_nearestlargemine    False\n",
       "dtype: bool"
      ]
     },
     "execution_count": 6,
     "metadata": {},
     "output_type": "execute_result"
    }
   ],
   "source": [
    "df.isnull().any()"
   ]
  },
  {
   "cell_type": "code",
   "execution_count": 7,
   "metadata": {},
   "outputs": [
    {
     "name": "stdout",
     "output_type": "stream",
     "text": [
      "      year        x        y  expenditure  income  ill_or_injured  malaria  \\\n",
      "1590   NaN  0.57982  7.83256          NaN     NaN             NaN      NaN   \n",
      "1591   NaN  0.63470  6.02610          NaN     NaN             NaN      NaN   \n",
      "1592   NaN  0.70544  5.84189          NaN     NaN             NaN      NaN   \n",
      "\n",
      "      forestloss  nightlights  distance_nearestlargemine  \n",
      "1590         NaN          NaN                 185603.190  \n",
      "1591         NaN          NaN                  86881.336  \n",
      "1592         NaN          NaN                 102678.480  \n"
     ]
    }
   ],
   "source": [
    "print(df[df[\"year\"].isnull()])\n",
    "#df.head()"
   ]
  },
  {
   "cell_type": "markdown",
   "metadata": {},
   "source": [
    "Since these three rows do not contain any economic and health data that we want to combine with small scale mining we drop these rows."
   ]
  },
  {
   "cell_type": "code",
   "execution_count": 8,
   "metadata": {},
   "outputs": [
    {
     "name": "stdout",
     "output_type": "stream",
     "text": [
      "(1593, 10)\n",
      "(1591, 10)\n"
     ]
    }
   ],
   "source": [
    "print(df.shape)\n",
    "df2 = df.drop(df[\"year\"].isnull())\n",
    "print(df2.shape)"
   ]
  },
  {
   "cell_type": "code",
   "execution_count": 9,
   "metadata": {},
   "outputs": [
    {
     "name": "stdout",
     "output_type": "stream",
     "text": [
      "      year        x        y  expenditure  income  ill_or_injured  malaria  \\\n",
      "1590   NaN  0.57982  7.83256          NaN     NaN             NaN      NaN   \n",
      "1591   NaN  0.63470  6.02610          NaN     NaN             NaN      NaN   \n",
      "1592   NaN  0.70544  5.84189          NaN     NaN             NaN      NaN   \n",
      "\n",
      "      forestloss  nightlights  distance_nearestlargemine  \n",
      "1590         NaN          NaN                 185603.190  \n",
      "1591         NaN          NaN                  86881.336  \n",
      "1592         NaN          NaN                 102678.480  \n"
     ]
    }
   ],
   "source": [
    "print(df2[df2[\"year\"].isnull()])"
   ]
  },
  {
   "cell_type": "code",
   "execution_count": 10,
   "metadata": {},
   "outputs": [
    {
     "data": {
      "text/plain": [
       "year                          True\n",
       "x                            False\n",
       "y                            False\n",
       "expenditure                   True\n",
       "income                        True\n",
       "ill_or_injured                True\n",
       "malaria                       True\n",
       "forestloss                    True\n",
       "nightlights                   True\n",
       "distance_nearestlargemine    False\n",
       "dtype: bool"
      ]
     },
     "execution_count": 10,
     "metadata": {},
     "output_type": "execute_result"
    }
   ],
   "source": [
    "df2.isnull().any()"
   ]
  },
  {
   "cell_type": "code",
   "execution_count": 11,
   "metadata": {},
   "outputs": [
    {
     "data": {
      "text/html": [
       "<div>\n",
       "<style>\n",
       "    .dataframe thead tr:only-child th {\n",
       "        text-align: right;\n",
       "    }\n",
       "\n",
       "    .dataframe thead th {\n",
       "        text-align: left;\n",
       "    }\n",
       "\n",
       "    .dataframe tbody tr th {\n",
       "        vertical-align: top;\n",
       "    }\n",
       "</style>\n",
       "<table border=\"1\" class=\"dataframe\">\n",
       "  <thead>\n",
       "    <tr style=\"text-align: right;\">\n",
       "      <th></th>\n",
       "      <th>year</th>\n",
       "      <th>x</th>\n",
       "      <th>y</th>\n",
       "      <th>expenditure</th>\n",
       "      <th>income</th>\n",
       "      <th>ill_or_injured</th>\n",
       "      <th>malaria</th>\n",
       "      <th>forestloss</th>\n",
       "      <th>nightlights</th>\n",
       "      <th>distance_nearestlargemine</th>\n",
       "    </tr>\n",
       "  </thead>\n",
       "  <tbody>\n",
       "    <tr>\n",
       "      <th>count</th>\n",
       "      <td>1588.000000</td>\n",
       "      <td>1591.000000</td>\n",
       "      <td>1591.000000</td>\n",
       "      <td>1588.000000</td>\n",
       "      <td>1588.000000</td>\n",
       "      <td>1588.000000</td>\n",
       "      <td>1588.000000</td>\n",
       "      <td>1588.000000</td>\n",
       "      <td>1588.000000</td>\n",
       "      <td>1591.000000</td>\n",
       "    </tr>\n",
       "    <tr>\n",
       "      <th>mean</th>\n",
       "      <td>1687.406801</td>\n",
       "      <td>-1.111399</td>\n",
       "      <td>7.387716</td>\n",
       "      <td>1145.132634</td>\n",
       "      <td>1619.906667</td>\n",
       "      <td>0.192833</td>\n",
       "      <td>0.414509</td>\n",
       "      <td>0.003695</td>\n",
       "      <td>5.446806</td>\n",
       "      <td>104794.179750</td>\n",
       "    </tr>\n",
       "    <tr>\n",
       "      <th>std</th>\n",
       "      <td>716.309251</td>\n",
       "      <td>1.031762</td>\n",
       "      <td>1.895317</td>\n",
       "      <td>864.213000</td>\n",
       "      <td>2777.778647</td>\n",
       "      <td>0.121386</td>\n",
       "      <td>0.117128</td>\n",
       "      <td>0.006239</td>\n",
       "      <td>11.400687</td>\n",
       "      <td>99632.327518</td>\n",
       "    </tr>\n",
       "    <tr>\n",
       "      <th>min</th>\n",
       "      <td>98.000000</td>\n",
       "      <td>-3.203450</td>\n",
       "      <td>4.761240</td>\n",
       "      <td>80.285172</td>\n",
       "      <td>-35.787189</td>\n",
       "      <td>0.000000</td>\n",
       "      <td>0.091799</td>\n",
       "      <td>0.000000</td>\n",
       "      <td>0.000000</td>\n",
       "      <td>676.799930</td>\n",
       "    </tr>\n",
       "    <tr>\n",
       "      <th>25%</th>\n",
       "      <td>2005.000000</td>\n",
       "      <td>-1.896610</td>\n",
       "      <td>5.940526</td>\n",
       "      <td>547.354915</td>\n",
       "      <td>350.794030</td>\n",
       "      <td>0.100758</td>\n",
       "      <td>0.348766</td>\n",
       "      <td>0.000037</td>\n",
       "      <td>0.046671</td>\n",
       "      <td>26914.290500</td>\n",
       "    </tr>\n",
       "    <tr>\n",
       "      <th>50%</th>\n",
       "      <td>2012.000000</td>\n",
       "      <td>-1.012910</td>\n",
       "      <td>6.701314</td>\n",
       "      <td>907.444430</td>\n",
       "      <td>720.887420</td>\n",
       "      <td>0.171080</td>\n",
       "      <td>0.422086</td>\n",
       "      <td>0.000899</td>\n",
       "      <td>0.856756</td>\n",
       "      <td>63795.102000</td>\n",
       "    </tr>\n",
       "    <tr>\n",
       "      <th>75%</th>\n",
       "      <td>2013.000000</td>\n",
       "      <td>-0.264739</td>\n",
       "      <td>8.780352</td>\n",
       "      <td>1475.033300</td>\n",
       "      <td>1883.936525</td>\n",
       "      <td>0.266832</td>\n",
       "      <td>0.501627</td>\n",
       "      <td>0.004510</td>\n",
       "      <td>3.601662</td>\n",
       "      <td>175508.375000</td>\n",
       "    </tr>\n",
       "    <tr>\n",
       "      <th>max</th>\n",
       "      <td>2013.000000</td>\n",
       "      <td>1.192945</td>\n",
       "      <td>11.127133</td>\n",
       "      <td>7677.353500</td>\n",
       "      <td>61162.129000</td>\n",
       "      <td>0.628571</td>\n",
       "      <td>0.683214</td>\n",
       "      <td>0.072279</td>\n",
       "      <td>60.936462</td>\n",
       "      <td>369073.840000</td>\n",
       "    </tr>\n",
       "  </tbody>\n",
       "</table>\n",
       "</div>"
      ],
      "text/plain": [
       "              year            x            y  expenditure        income  \\\n",
       "count  1588.000000  1591.000000  1591.000000  1588.000000   1588.000000   \n",
       "mean   1687.406801    -1.111399     7.387716  1145.132634   1619.906667   \n",
       "std     716.309251     1.031762     1.895317   864.213000   2777.778647   \n",
       "min      98.000000    -3.203450     4.761240    80.285172    -35.787189   \n",
       "25%    2005.000000    -1.896610     5.940526   547.354915    350.794030   \n",
       "50%    2012.000000    -1.012910     6.701314   907.444430    720.887420   \n",
       "75%    2013.000000    -0.264739     8.780352  1475.033300   1883.936525   \n",
       "max    2013.000000     1.192945    11.127133  7677.353500  61162.129000   \n",
       "\n",
       "       ill_or_injured      malaria   forestloss  nightlights  \\\n",
       "count     1588.000000  1588.000000  1588.000000  1588.000000   \n",
       "mean         0.192833     0.414509     0.003695     5.446806   \n",
       "std          0.121386     0.117128     0.006239    11.400687   \n",
       "min          0.000000     0.091799     0.000000     0.000000   \n",
       "25%          0.100758     0.348766     0.000037     0.046671   \n",
       "50%          0.171080     0.422086     0.000899     0.856756   \n",
       "75%          0.266832     0.501627     0.004510     3.601662   \n",
       "max          0.628571     0.683214     0.072279    60.936462   \n",
       "\n",
       "       distance_nearestlargemine  \n",
       "count                1591.000000  \n",
       "mean               104794.179750  \n",
       "std                 99632.327518  \n",
       "min                   676.799930  \n",
       "25%                 26914.290500  \n",
       "50%                 63795.102000  \n",
       "75%                175508.375000  \n",
       "max                369073.840000  "
      ]
     },
     "execution_count": 11,
     "metadata": {},
     "output_type": "execute_result"
    }
   ],
   "source": [
    "df2.describe()"
   ]
  },
  {
   "cell_type": "markdown",
   "metadata": {},
   "source": [
    "Showing Illness and Malaria over time"
   ]
  },
  {
   "cell_type": "code",
   "execution_count": 12,
   "metadata": {},
   "outputs": [
    {
     "name": "stdout",
     "output_type": "stream",
     "text": [
      "\n",
      "The following command must be run outside of the IPython shell:\n",
      "\n",
      "    $ pip install plotly\n",
      "\n",
      "The Python package manager (pip) can only be used from outside of IPython.\n",
      "Please reissue the `pip` command in a separate terminal or command prompt.\n",
      "\n",
      "See the Python documentation for more informations on how to install packages:\n",
      "\n",
      "    https://docs.python.org/3/installing/\n"
     ]
    }
   ],
   "source": [
    "pip install plotly"
   ]
  },
  {
   "cell_type": "code",
   "execution_count": 15,
   "metadata": {
    "collapsed": true
   },
   "outputs": [],
   "source": [
    "df2 = (df[\"year\"] < 2000) + 1900"
   ]
  },
  {
   "cell_type": "code",
   "execution_count": 14,
   "metadata": {},
   "outputs": [
    {
     "data": {
      "text/plain": [
       "[<matplotlib.lines.Line2D at 0x218fb1ec9b0>]"
      ]
     },
     "execution_count": 14,
     "metadata": {},
     "output_type": "execute_result"
    },
    {
     "data": {
      "image/png": "[encoded data removed]",
      "text/plain": [
       "<matplotlib.figure.Figure at 0x218fbebac88>"
      ]
     },
     "metadata": {},
     "output_type": "display_data"
    }
   ],
   "source": [
    "plt.plot(df[\"year\"], df[\"malaria\"], '-')"
   ]
  },
  {
   "cell_type": "code",
   "execution_count": 16,
   "metadata": {},
   "outputs": [
    {
     "data": {
      "text/plain": [
       "0    1901\n",
       "1    1901\n",
       "2    1901\n",
       "3    1901\n",
       "4    1901\n",
       "Name: year, dtype: int32"
      ]
     },
     "execution_count": 16,
     "metadata": {},
     "output_type": "execute_result"
    }
   ],
   "source": [
    "df2.head()"
   ]
  },
  {
   "cell_type": "code",
   "execution_count": 18,
   "metadata": {},
   "outputs": [
    {
     "ename": "KeyError",
     "evalue": "'year'",
     "output_type": "error",
     "traceback": [
      "\u001b[1;31m---------------------------------------------------------------------------\u001b[0m",
      "\u001b[1;31mTypeError\u001b[0m                                 Traceback (most recent call last)",
      "\u001b[1;32mpandas\\_libs\\index.pyx\u001b[0m in \u001b[0;36mpandas._libs.index.IndexEngine.get_loc\u001b[1;34m()\u001b[0m\n",
      "\u001b[1;32mpandas\\_libs\\hashtable_class_helper.pxi\u001b[0m in \u001b[0;36mpandas._libs.hashtable.Int64HashTable.get_item\u001b[1;34m()\u001b[0m\n",
      "\u001b[1;31mTypeError\u001b[0m: an integer is required",
      "\nDuring handling of the above exception, another exception occurred:\n",
      "\u001b[1;31mKeyError\u001b[0m                                  Traceback (most recent call last)",
      "\u001b[1;32m<ipython-input-18-e29ebc39f47d>\u001b[0m in \u001b[0;36m<module>\u001b[1;34m()\u001b[0m\n\u001b[1;32m----> 1\u001b[1;33m \u001b[0mprint\u001b[0m\u001b[1;33m(\u001b[0m\u001b[0mdf2\u001b[0m\u001b[1;33m[\u001b[0m\u001b[1;34m\"year\"\u001b[0m\u001b[1;33m]\u001b[0m\u001b[1;33m)\u001b[0m\u001b[1;33m\u001b[0m\u001b[0m\n\u001b[0m",
      "\u001b[1;32m~\\AppData\\Local\\Continuum\\anaconda3\\lib\\site-packages\\pandas\\core\\series.py\u001b[0m in \u001b[0;36m__getitem__\u001b[1;34m(self, key)\u001b[0m\n\u001b[0;32m    599\u001b[0m         \u001b[0mkey\u001b[0m \u001b[1;33m=\u001b[0m \u001b[0mcom\u001b[0m\u001b[1;33m.\u001b[0m\u001b[0m_apply_if_callable\u001b[0m\u001b[1;33m(\u001b[0m\u001b[0mkey\u001b[0m\u001b[1;33m,\u001b[0m \u001b[0mself\u001b[0m\u001b[1;33m)\u001b[0m\u001b[1;33m\u001b[0m\u001b[0m\n\u001b[0;32m    600\u001b[0m         \u001b[1;32mtry\u001b[0m\u001b[1;33m:\u001b[0m\u001b[1;33m\u001b[0m\u001b[0m\n\u001b[1;32m--> 601\u001b[1;33m             \u001b[0mresult\u001b[0m \u001b[1;33m=\u001b[0m \u001b[0mself\u001b[0m\u001b[1;33m.\u001b[0m\u001b[0mindex\u001b[0m\u001b[1;33m.\u001b[0m\u001b[0mget_value\u001b[0m\u001b[1;33m(\u001b[0m\u001b[0mself\u001b[0m\u001b[1;33m,\u001b[0m \u001b[0mkey\u001b[0m\u001b[1;33m)\u001b[0m\u001b[1;33m\u001b[0m\u001b[0m\n\u001b[0m\u001b[0;32m    602\u001b[0m \u001b[1;33m\u001b[0m\u001b[0m\n\u001b[0;32m    603\u001b[0m             \u001b[1;32mif\u001b[0m \u001b[1;32mnot\u001b[0m \u001b[0mis_scalar\u001b[0m\u001b[1;33m(\u001b[0m\u001b[0mresult\u001b[0m\u001b[1;33m)\u001b[0m\u001b[1;33m:\u001b[0m\u001b[1;33m\u001b[0m\u001b[0m\n",
      "\u001b[1;32m~\\AppData\\Local\\Continuum\\anaconda3\\lib\\site-packages\\pandas\\core\\indexes\\base.py\u001b[0m in \u001b[0;36mget_value\u001b[1;34m(self, series, key)\u001b[0m\n\u001b[0;32m   2475\u001b[0m         \u001b[1;32mtry\u001b[0m\u001b[1;33m:\u001b[0m\u001b[1;33m\u001b[0m\u001b[0m\n\u001b[0;32m   2476\u001b[0m             return self._engine.get_value(s, k,\n\u001b[1;32m-> 2477\u001b[1;33m                                           tz=getattr(series.dtype, 'tz', None))\n\u001b[0m\u001b[0;32m   2478\u001b[0m         \u001b[1;32mexcept\u001b[0m \u001b[0mKeyError\u001b[0m \u001b[1;32mas\u001b[0m \u001b[0me1\u001b[0m\u001b[1;33m:\u001b[0m\u001b[1;33m\u001b[0m\u001b[0m\n\u001b[0;32m   2479\u001b[0m             \u001b[1;32mif\u001b[0m \u001b[0mlen\u001b[0m\u001b[1;33m(\u001b[0m\u001b[0mself\u001b[0m\u001b[1;33m)\u001b[0m \u001b[1;33m>\u001b[0m \u001b[1;36m0\u001b[0m \u001b[1;32mand\u001b[0m \u001b[0mself\u001b[0m\u001b[1;33m.\u001b[0m\u001b[0minferred_type\u001b[0m \u001b[1;32min\u001b[0m \u001b[1;33m[\u001b[0m\u001b[1;34m'integer'\u001b[0m\u001b[1;33m,\u001b[0m \u001b[1;34m'boolean'\u001b[0m\u001b[1;33m]\u001b[0m\u001b[1;33m:\u001b[0m\u001b[1;33m\u001b[0m\u001b[0m\n",
      "\u001b[1;32mpandas\\_libs\\index.pyx\u001b[0m in \u001b[0;36mpandas._libs.index.IndexEngine.get_value\u001b[1;34m()\u001b[0m\n",
      "\u001b[1;32mpandas\\_libs\\index.pyx\u001b[0m in \u001b[0;36mpandas._libs.index.IndexEngine.get_value\u001b[1;34m()\u001b[0m\n",
      "\u001b[1;32mpandas\\_libs\\index.pyx\u001b[0m in \u001b[0;36mpandas._libs.index.IndexEngine.get_loc\u001b[1;34m()\u001b[0m\n",
      "\u001b[1;31mKeyError\u001b[0m: 'year'"
     ]
    }
   ],
   "source": [
    "print(df2[\"year\"])"
   ]
  },
  {
   "cell_type": "code",
   "execution_count": null,
   "metadata": {
    "collapsed": true
   },
   "outputs": [],
   "source": []
  }
 ],
 "metadata": {
  "kernelspec": {
   "display_name": "Python 3",
   "language": "python",
   "name": "python3"
  },
  "language_info": {
   "codemirror_mode": {
    "name": "ipython",
    "version": 3
   },
   "file_extension": ".py",
   "mimetype": "text/x-python",
   "name": "python",
   "nbconvert_exporter": "python",
   "pygments_lexer": "ipython3",
   "version": "3.6.2"
  }
 },
 "nbformat": 4,
 "nbformat_minor": 2
}
