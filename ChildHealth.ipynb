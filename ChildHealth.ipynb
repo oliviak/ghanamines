{
 "cells": [
  {
   "cell_type": "markdown",
   "metadata": {},
   "source": [
    "## Analysis of Child Health Data\n",
    "\n",
    "Looking at the child health data in Ghana from various perspectives.\n",
    "\n",
    "_This section is to be deprecated. We are ignoring Child health data for now, because we are uncertain about their reliability. Relevant section starts with *New Combined GLSS Data Set* below._"
   ]
  },
  {
   "cell_type": "code",
   "execution_count": 1,
   "metadata": {
    "collapsed": true
   },
   "outputs": [],
   "source": [
    "import numpy as np \n",
    "import pandas as pd\n",
    "import matplotlib.pyplot as plt \n",
    "import seaborn as sns \n",
    "%matplotlib inline"
   ]
  },
  {
   "cell_type": "code",
   "execution_count": null,
   "metadata": {
    "collapsed": true
   },
   "outputs": [],
   "source": [
    "# Dataset location\n",
    "database = 'C:\\Ghana\\Ghana hackfest\\Ghana hackfest\\dhs-childhealth\\dhs_14_93_u5disease_gps.csv'\n",
    "\n",
    "# Read in a CSV file and store the contents in a dataframe (df)\n",
    "df = pd.read_csv(database, low_memory=False)\n",
    "df.head()"
   ]
  },
  {
   "cell_type": "code",
   "execution_count": null,
   "metadata": {
    "collapsed": true
   },
   "outputs": [],
   "source": [
    "df.shape"
   ]
  },
  {
   "cell_type": "code",
   "execution_count": null,
   "metadata": {
    "collapsed": true
   },
   "outputs": [],
   "source": [
    "df.columns"
   ]
  },
  {
   "cell_type": "markdown",
   "metadata": {},
   "source": [
    "## Column Readability\n",
    "\n",
    "Load Column Names from separate List and change for readability.\n",
    "\n",
    "_This section is to be deprecated. We are ignoring Child health data for now, because we are uncertain about their reliability. Relevant section starts with *New Combined GLSS Data Set* below._"
   ]
  },
  {
   "cell_type": "code",
   "execution_count": null,
   "metadata": {
    "collapsed": true
   },
   "outputs": [],
   "source": [
    "# Dataset location\n",
    "dbColumns = 'C:\\Ghana\\Ghana hackfest\\Ghana hackfest\\dhs-childhealth\\\\variablelistcsv.csv'\n",
    "# Read in a CSV file \n",
    "dfc = pd.read_csv(dbColumns, low_memory=False)\n",
    "dfc.head()"
   ]
  },
  {
   "cell_type": "code",
   "execution_count": null,
   "metadata": {
    "collapsed": true
   },
   "outputs": [],
   "source": [
    "new_column_names = dfc['varlab'].tolist()"
   ]
  },
  {
   "cell_type": "code",
   "execution_count": null,
   "metadata": {
    "collapsed": true
   },
   "outputs": [],
   "source": [
    "df.columns = new_column_names\n",
    "df.head()"
   ]
  },
  {
   "cell_type": "code",
   "execution_count": null,
   "metadata": {
    "collapsed": true
   },
   "outputs": [],
   "source": [
    "print(new_column_names)"
   ]
  },
  {
   "cell_type": "code",
   "execution_count": null,
   "metadata": {
    "collapsed": true
   },
   "outputs": [],
   "source": [
    "new_column_names = ['caseid', 'indextobirthhistory', 'countrycode', 'cluster', 'household', \"line\", 'ultimateareaunit', \"womensampleweight\", 'monthofinterview', 'yearofinterview', 'dateofinterview', \"age\", 'region', 'religion', 'ethnicity', 'education', 'totalchildren', 'sons', 'daughters', 'pregnant', 'livingchildren', 'mosquito', 'maritalstatus', 'working', 'ageofchild', 'diarrhea', 'fever', 'cough', 'caseidentification', 'country code and phase', \"respondent's line number (answering household questionnaire)\", 'ultimate area unit', 'household sample weight (6 decimals)', 'month of interview', 'year of interview', 'date of interview (cmc)', 'number of household members', 'number of children 5 and under (de jure)', 'type of place of residence', 'time to get to water source (minutes)', 'type of toilet facility', 'main floor material', 'sex of head of household', 'age of head of household', 'type of cooking fuel', 'has mosquito bed net for sleeping', 'children under 5 slept under mosquito bed net last night', 'wealth index', 'education completed in single years', 'Survey year', 'DHSID', 'DHSCC', 'CCFIPS', 'ADM1FIPS', 'ADM1FIPSNA', 'ADM1SALBNA', 'ADM1SALBCO', 'ADM1DHS', 'ADM1NAME', 'DHSREGCO', 'DHSREGNA', 'SOURCE', 'URBAN_RURA', 'LATNUM', 'LONGNUM', 'ALT_GPS', 'ALT_DEM', 'DATUM']"
   ]
  },
  {
   "cell_type": "code",
   "execution_count": null,
   "metadata": {
    "collapsed": true
   },
   "outputs": [],
   "source": [
    "df.columns = new_column_names\n",
    "df.head()"
   ]
  }
 ],
 "metadata": {
  "kernelspec": {
   "display_name": "Python 3",
   "language": "python",
   "name": "python3"
  },
  "language_info": {
   "codemirror_mode": {
    "name": "ipython",
    "version": 3
   },
   "file_extension": ".py",
   "mimetype": "text/x-python",
   "name": "python",
   "nbconvert_exporter": "python",
   "pygments_lexer": "ipython3",
   "version": "3.6.1"
  }
 },
 "nbformat": 4,
 "nbformat_minor": 2
}
